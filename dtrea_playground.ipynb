{
 "cells": [
  {
   "cell_type": "code",
   "execution_count": 18,
   "metadata": {
    "collapsed": true
   },
   "outputs": [],
   "source": [
    "# -*- coding: utf-8 -*-\n",
    "__author__ = 'Danny'\n",
    "\n",
    "import sys\n",
    "import pandas as pd\n",
    "import math\n",
    "\n",
    "CLASS_VALUE = {\"tested_negative\\n\":0,\"tested_positive\\n\":1}\n",
    "\n",
    "\n",
    "##################################################\n",
    "# parse ARFF\n",
    "##################################################\n",
    "def parseARFF(fname):\n",
    "    head = []\n",
    "    accepting_data = False\n",
    "    data =[]\n",
    "    with open(fname) as arffStr:\n",
    "        for line in arffStr:\n",
    "            if accepting_data:\n",
    "                strarray = line.split(\",\")\n",
    "                data.append([float(val) for val in strarray[0:-1]]+[CLASS_VALUE[strarray[-1]]])\n",
    "\n",
    "            elif line.find(\"@attribute\")>-1:\n",
    "                strlist = line.split(\"'\")\n",
    "                head.append(strlist[1])\n",
    "\n",
    "            if line.find(\"@data\")>-1:\n",
    "                accepting_data = True\n",
    "\n",
    "    return pd.DataFrame(data=data,columns=head)\n",
    "\n",
    "\n",
    "##################################################\n",
    "# tree node class that will make up the tree\n",
    "##################################################\n",
    "class TreeNode():\n",
    "    def __init__(self, classification=None, parent=None):\n",
    "#        self.is_leaf = True\n",
    "        self.classification = classification\n",
    "        self.attr = None\n",
    "        self.partition_values = []\n",
    "        self.parent = parent\n",
    "        self.children = []\n",
    "        self.entropy = 0\n",
    "        self.majority = None\n",
    "\n",
    "\n",
    "##################################################\n",
    "# MakeSubtree(set of training instances D)\n",
    "##################################################\n",
    "def Maketree(examples, features, m):\n",
    "\n",
    "\n",
    "    #Create a Root node for the tree\n",
    "    root = TreeNode()\n",
    "    num_class1 = float(examples[examples['class']==1].shape[0])\n",
    "    total_num = float(examples.shape[0])\n",
    "\n",
    "    #If the number of instances that reach a leaf node is 0,\n",
    "    # the leaf should predict the plurality class of the parent node.\n",
    "    if total_num==0:\n",
    "        root.classification = root.parent.majority\n",
    "        return root\n",
    "\n",
    "    if total_num-num_class1==num_class1:\n",
    "        root.majority = examples.ix[0]['class']\n",
    "    elif total_num-num_class1>num_class1:\n",
    "        root.majority = 0\n",
    "    else:\n",
    "        root.majority = 1\n",
    "\n",
    "    #(i) all of the training instances reaching the node belong to the same class\n",
    "    if num_class1==0 or total_num==num_class1:\n",
    "        root.classification = root.majority\n",
    "        return root\n",
    "\n",
    "    #(ii) there are fewer than m training instances reaching the node\n",
    "    if total_num<m:\n",
    "        root.classification = root.majority\n",
    "        return root\n",
    "    else:\n",
    "    #   otherwise make an internal node N\n",
    "    #   FindBestSplit S\n",
    "        root.entropy = -num_class1/total_num*math.log(num_class1/total_num,2)-(total_num-num_class1)/total_num*math.log((total_num-num_class1)/total_num,2)\n",
    "        max_gain =0\n",
    "        for feature in features:\n",
    "            C = DetermineCandidateSplits(examples,feature)\n",
    "            if len(C)==0:\n",
    "                continue\n",
    "\n",
    "            C.insert(0,float('-inf'))\n",
    "            C.append(float('inf'))\n",
    "\n",
    "            h = 0\n",
    "            for i in range(len(C)-1):\n",
    "                query = examples[examples[feature]<=C[i+1]][examples[feature]>C[i]]\n",
    "                query0 = query[examples['class']==0]\n",
    "                lenquery = float(query.shape[0])\n",
    "                lenquery0 = float(query0.shape[0])\n",
    "                lenquery1 = lenquery - lenquery0\n",
    "                if lenquery0!=0:\n",
    "                    h += -lenquery0/total_num*math.log(lenquery0/lenquery,2)\n",
    "                if lenquery1!=0:\n",
    "                    h += -lenquery1/total_num*math.log(lenquery1/lenquery,2)\n",
    "\n",
    "            if (root.entropy-h)>max_gain:\n",
    "                S = C\n",
    "                max_gain = root.entropy-h\n",
    "                best_feature = feature\n",
    "\n",
    "        # (iii) no feature has positive information gain\n",
    "        # (iv) there are no more remaining candidate splits at the node\n",
    "        if max_gain==0:\n",
    "            return root\n",
    "        else:\n",
    "            root.attr = best_feature\n",
    "            root.partition_values = S\n",
    "\n",
    "            for i in range(len(C)-1):\n",
    "                child = Maketree(examples[examples[feature]<=C[i+1]][examples[feature]>C[i]].reset_index(),features,m)\n",
    "                root.children.append(child)\n",
    "                child.parent = root\n",
    "\n",
    "    return root\n",
    "    #       for each outcome k of S\n",
    "    #           Dk = subset of instances that have outcome k!\n",
    "    #           kth child of N = MakeSubtree(Dk)\n",
    "    #  return subtree rooted at N\n",
    "\n",
    "\n",
    "def DetermineCandidateSplits(examples,feature):\n",
    "    C = [] #initialize set of candidate splits for feature Xi\n",
    "\n",
    "    #partition instances in D into sets s1 ... sV where the instances in each set have the same value for Xi\n",
    "    sorted_data = examples.sort([feature])\n",
    "    row_iterator = sorted_data.iterrows()\n",
    "    i,last = row_iterator.next()\n",
    "    partition = [[i]]\n",
    "    pt_ct = 0       # == len(partition) -1\n",
    "    for i,row in row_iterator:\n",
    "        if row[feature]==last[feature]:\n",
    "            partition[pt_ct].append(i)\n",
    "        else:\n",
    "            partition.append([i])\n",
    "            pt_ct += 1\n",
    "            last = row\n",
    "\n",
    "    #let vj denote the value of Xi for set sj\n",
    "    #sort the sets in S using vj as the key for each sj\n",
    "    #for each pair of adjacent sets sj, sj+1 in sorted S\n",
    "    for j in range(pt_ct):\n",
    "        for s in range(len(partition[j])):\n",
    "            for t in range(len(partition[j+1])):\n",
    "                #if sj and sj+1 contain a pair of instances with different class labels!\n",
    "                if examples.ix[partition[j][s]]['class']!=examples.ix[partition[j+1][t]]['class']:\n",
    "                   #add candidate split Xi ≤ (vj + vj+1)/2 to C!\n",
    "                    C.append((examples.ix[partition[j][0]][feature]+\n",
    "                                        examples.ix[partition[j+1][0]][feature])/2)\n",
    "                    break\n",
    "            else:\n",
    "                continue\n",
    "            break\n",
    "\n",
    "    return C\n",
    "\n",
    "\n",
    "\n",
    "    "
   ]
  },
  {
   "cell_type": "code",
   "execution_count": 21,
   "metadata": {
    "collapsed": false
   },
   "outputs": [],
   "source": [
    "#fname = sys.argv[1]\n",
    "fname = \"diabetes_train.arff\"\n",
    "examples = parseARFF(fname)\n",
    "m = 2\n",
    "treeroot = Maketree(examples,examples.columns[:-1],m)"
   ]
  },
  {
   "cell_type": "code",
   "execution_count": 25,
   "metadata": {
    "collapsed": false
   },
   "outputs": [
    {
     "name": "stdout",
     "output_type": "stream",
     "text": [
      "pedi [-inf, 0.086499999999999994, 0.088499999999999995, 0.1195, 0.1215, 0.1265, 0.1275, 0.1285, 0.13100000000000001, 0.13450000000000001, 0.13550000000000001, 0.13650000000000001, 0.13750000000000001, 0.13950000000000001, 0.14149999999999999, 0.14749999999999999, 0.14849999999999999, 0.14949999999999999, 0.15049999999999999, 0.152, 0.1605, 0.1615, 0.16250000000000001, 0.16350000000000001, 0.16450000000000001, 0.16550000000000001, 0.17749999999999999, 0.17899999999999999, 0.18049999999999999, 0.1825, 0.1845, 0.19500000000000001, 0.19650000000000001, 0.19750000000000001, 0.19850000000000001, 0.19950000000000001, 0.20150000000000001, 0.20350000000000001, 0.20449999999999999, 0.20549999999999999, 0.20799999999999999, 0.20949999999999999, 0.21099999999999999, 0.2135, 0.2185, 0.2195, 0.2205, 0.2215, 0.2225, 0.22550000000000001, 0.22750000000000001, 0.22950000000000001, 0.23050000000000001, 0.23200000000000001, 0.23350000000000001, 0.23449999999999999, 0.23549999999999999, 0.23749999999999999, 0.23849999999999999, 0.24199999999999999, 0.2445, 0.2455, 0.2465, 0.248, 0.2535, 0.255, 0.25650000000000001, 0.25750000000000001, 0.25850000000000001, 0.25950000000000001, 0.26050000000000001, 0.26150000000000001, 0.26350000000000001, 0.26450000000000001, 0.26750000000000002, 0.26850000000000002, 0.27100000000000002, 0.27850000000000003, 0.28100000000000003, 0.28249999999999997, 0.28549999999999998, 0.28649999999999998, 0.29249999999999998, 0.29349999999999998, 0.29549999999999998, 0.29799999999999999, 0.30099999999999999, 0.30249999999999999, 0.3135, 0.3145, 0.31850000000000001, 0.32350000000000001, 0.32450000000000001, 0.32550000000000001, 0.32700000000000001, 0.32850000000000001, 0.33050000000000002, 0.33150000000000002, 0.33300000000000002, 0.33550000000000002, 0.33650000000000002, 0.33750000000000002, 0.33900000000000002, 0.34050000000000002, 0.34250000000000003, 0.34350000000000003, 0.34649999999999997, 0.34799999999999998, 0.35049999999999998, 0.35349999999999998, 0.36149999999999999, 0.36299999999999999, 0.36449999999999999, 0.36549999999999999, 0.36699999999999999, 0.36899999999999999, 0.3705, 0.3725, 0.3755, 0.377, 0.379, 0.3805, 0.38250000000000001, 0.38400000000000001, 0.39450000000000002, 0.39700000000000002, 0.40150000000000002, 0.40350000000000003, 0.40749999999999997, 0.40849999999999997, 0.41049999999999998, 0.41349999999999998, 0.42149999999999999, 0.42249999999999999, 0.42449999999999999, 0.43049999999999999, 0.43149999999999999, 0.4325, 0.4335, 0.4345, 0.437, 0.44, 0.442, 0.44350000000000001, 0.44650000000000001, 0.44950000000000001, 0.45250000000000001, 0.45450000000000002, 0.45600000000000002, 0.46450000000000002, 0.46550000000000002, 0.47549999999999998, 0.48049999999999998, 0.4955, 0.4965, 0.50150000000000006, 0.50449999999999995, 0.50950000000000006, 0.51200000000000001, 0.51449999999999996, 0.51550000000000007, 0.51800000000000002, 0.52249999999999996, 0.52750000000000008, 0.53000000000000003, 0.53300000000000003, 0.53500000000000003, 0.53750000000000009, 0.54400000000000004, 0.54800000000000004, 0.55000000000000004, 0.55249999999999999, 0.5555000000000001, 0.55800000000000005, 0.56299999999999994, 0.56999999999999995, 0.5734999999999999, 0.57899999999999996, 0.58250000000000002, 0.58450000000000002, 0.58650000000000002, 0.58749999999999991, 0.58949999999999991, 0.59199999999999997, 0.59399999999999997, 0.60299999999999998, 0.60599999999999998, 0.61250000000000004, 0.61349999999999993, 0.61450000000000005, 0.61699999999999999, 0.62949999999999995, 0.63050000000000006, 0.63400000000000001, 0.63850000000000007, 0.64250000000000007, 0.64650000000000007, 0.65050000000000008, 0.65300000000000002, 0.65900000000000003, 0.66050000000000009, 0.66349999999999998, 0.67349999999999999, 0.67549999999999999, 0.67749999999999999, 0.67900000000000005, 0.68100000000000005, 0.68400000000000005, 0.68650000000000011, 0.6895, 0.69249999999999989, 0.69399999999999995, 0.6984999999999999, 0.7024999999999999, 0.70999999999999996, 0.71399999999999997, 0.71799999999999997, 0.72350000000000003, 0.72599999999999998, 0.72849999999999993, 0.73049999999999993, 0.73249999999999993, 0.73350000000000004, 0.73449999999999993, 0.73950000000000005, 0.74350000000000005, 0.74449999999999994, 0.74649999999999994, 0.75249999999999995, 0.76350000000000007, 0.76849999999999996, 0.77200000000000002, 0.77900000000000003, 0.78600000000000003, 0.79400000000000004, 0.80200000000000005, 0.8035000000000001, 0.80449999999999999, 0.8105, 0.8165, 0.81899999999999995, 0.82299999999999995, 0.82699999999999996, 0.8294999999999999, 0.83149999999999991, 0.83599999999999997, 0.83949999999999991, 0.86349999999999993, 0.87250000000000005, 0.87450000000000006, 0.87650000000000006, 0.89250000000000007, 0.89850000000000008, 0.90450000000000008, 0.91100000000000003, 0.92100000000000004, 0.92800000000000005, 0.93250000000000011, 0.9385, 0.95199999999999996, 0.96499999999999997, 0.96899999999999997, 0.98350000000000004, 0.99899999999999989, 1.0109999999999999, 1.028, 1.0740000000000001, 1.1074999999999999, 1.137, 1.141, 1.1564999999999999, 1.1779999999999999, 1.2374999999999998, 1.2544999999999999, 1.2629999999999999, 1.2749999999999999, 1.3969999999999998, 1.9340000000000002, 2.2330000000000001, 2.3745000000000003, inf]\n"
     ]
    }
   ],
   "source": [
    "print treeroot.attr, treeroot.partition_values"
   ]
  },
  {
   "cell_type": "code",
   "execution_count": 27,
   "metadata": {
    "collapsed": false
   },
   "outputs": [
    {
     "name": "stdout",
     "output_type": "stream",
     "text": [
      "mass [-inf, 33.400000000000006, 35.150000000000006, 41.400000000000006, 42.400000000000006, 42.799999999999997, 43.200000000000003, inf]\n"
     ]
    }
   ],
   "source": [
    "print treeroot.children[0].attr, treeroot.children[0].partition_values "
   ]
  },
  {
   "cell_type": "code",
   "execution_count": 28,
   "metadata": {
    "collapsed": false
   },
   "outputs": [
    {
     "name": "stdout",
     "output_type": "stream",
     "text": [
      "[]\n"
     ]
    }
   ],
   "source": [
    "print treeroot.children[0].children"
   ]
  },
  {
   "cell_type": "code",
   "execution_count": null,
   "metadata": {
    "collapsed": true
   },
   "outputs": [],
   "source": []
  }
 ],
 "metadata": {
  "kernelspec": {
   "display_name": "Python 2",
   "language": "python",
   "name": "python2"
  },
  "language_info": {
   "codemirror_mode": {
    "name": "ipython",
    "version": 2
   },
   "file_extension": ".py",
   "mimetype": "text/x-python",
   "name": "python",
   "nbconvert_exporter": "python",
   "pygments_lexer": "ipython2",
   "version": "2.7.10"
  }
 },
 "nbformat": 4,
 "nbformat_minor": 0
}
